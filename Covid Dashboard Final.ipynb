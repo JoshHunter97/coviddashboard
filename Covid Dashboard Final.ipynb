{
 "cells": [
  {
   "cell_type": "markdown",
   "metadata": {},
   "source": [
    "[DIY Covid-19 Dashboard](https://github.com/fsmeraldi/diy-covid19dash) (C) Joshua Hunter, 2020 ([ec20719@qmul.ac.uk] All rights reserved."
   ]
  },
  {
   "cell_type": "markdown",
   "metadata": {},
   "source": [
    "# DIY Covid-19 Dashboard"
   ]
  },
  {
   "cell_type": "markdown",
   "metadata": {},
   "source": [
    "This is a DIY Covid-19 Dashboard developed by Josh Hunterin November 2020. This dashboard wrangles some data provided by Public Health England, relating to the cases of coronavirus in the UK since the start of the pandemic. A graph with interactive widgets is then provided based on that wrangled data."
   ]
  },
  {
   "cell_type": "code",
   "execution_count": null,
   "metadata": {},
   "outputs": [],
   "source": [
    "import ipywidgets as wdg\n",
    "import pandas as pd\n",
    "import numpy as np\n",
    "import matplotlib.pyplot as plt\n",
    "import json\n",
    "from uk_covid19 import Cov19API\n",
    "\n",
    "#importing modules for use throughout dashboard"
   ]
  },
  {
   "cell_type": "code",
   "execution_count": null,
   "metadata": {},
   "outputs": [],
   "source": [
    "%matplotlib inline\n",
    "plt.rcParams['figure.dpi'] = 100\n",
    "\n",
    "# make figures larger"
   ]
  },
  {
   "cell_type": "code",
   "execution_count": null,
   "metadata": {},
   "outputs": [],
   "source": [
    "with open(\"timeseries.json\", \"rt\") as INFILE:\n",
    "    data1=json.load(INFILE)\n",
    "datalist=data1['data']\n",
    "\n",
    "#load data from saved json file"
   ]
  },
  {
   "cell_type": "markdown",
   "metadata": {},
   "source": [
    "## Wrangle the data\n",
    "\n",
    "The is the logic to wrangle the raw data into a ```DataFrame``` that will be used for plotting. This dashboard will display the newcases in the UK for each date provided by Public Health England and also a running total of all the cases in the UK to date.  "
   ]
  },
  {
   "cell_type": "code",
   "execution_count": null,
   "metadata": {},
   "outputs": [],
   "source": [
    "def wrangle_data(data):\n",
    "    \n",
    "    datalist=data['data']\n",
    "    \n",
    "    dates=[dictionary['date'] for dictionary in datalist ]\n",
    "\n",
    "    dates.sort()\n",
    "\n",
    "    def parse_date(datestring):\n",
    "        \"\"\" Convert a date string into a pandas datetime object \"\"\"\n",
    "        return pd.to_datetime(datestring, format=\"%Y-%m-%d\")\n",
    "\n",
    "    startdate=parse_date(dates[0])\n",
    "    enddate=parse_date(dates[-1])\n",
    "\n",
    "    index=pd.date_range(startdate, enddate, freq='D')\n",
    "    timeseriesdf=pd.DataFrame(index=index, columns=['Newcases', 'Cumcases'])\n",
    "\n",
    "    for entry in datalist: # each entry is a dictionary with date, Newcases and Cumcases\n",
    "        date=parse_date(entry['date'])\n",
    "        for column in ['Newcases', 'Cumcases']:\n",
    "            if pd.isna(timeseriesdf.loc[date, column]):  \n",
    "                value= int(entry[column]) if entry[column]!=None else 0\n",
    "                timeseriesdf.loc[date, column]=value\n",
    "            \n",
    "    timeseriesdf.fillna(0, inplace=True)\n",
    "    timeseriesdf.to_pickle(\"timeseriesdf.pkl\")\n",
    "    timeseriesdf=pd.read_pickle(\"timeseriesdf.pkl\")\n",
    "    \n",
    "    return timeseriesdf\n",
    "\n",
    "#logic required to wrangle data into a dataframe"
   ]
  },
  {
   "cell_type": "code",
   "execution_count": null,
   "metadata": {},
   "outputs": [],
   "source": [
    "df1 = wrangle_data(data1)\n",
    "\n",
    "#call to wrangle the data of loaded file into a dataframe"
   ]
  },
  {
   "cell_type": "markdown",
   "metadata": {},
   "source": [
    "## Download current data"
   ]
  },
  {
   "cell_type": "markdown",
   "metadata": {},
   "source": [
    "Here is a button that allows users to refresh the data from Public Health England. Clicking this button will also refresh the graph at the bottom of the dashboard."
   ]
  },
  {
   "cell_type": "code",
   "execution_count": null,
   "metadata": {},
   "outputs": [],
   "source": [
    "def access_api():\n",
    "    \"\"\" Accesses the PHE API. Returns raw data in the same format as data loaded from the \"canned\" JSON file. \"\"\"\n",
    "    filters = [\n",
    "    'areaType=overview' # note each metric-value pair is inside one string\n",
    "    ]\n",
    "    structure = {\n",
    "    \"date\": \"date\",\n",
    "    \"Newcases\": \"newCasesByPublishDate\",\n",
    "    \"Cumcases\": \"cumCasesByPublishDate\"\n",
    "    }\n",
    "    api = Cov19API(filters=filters, structure=structure)\n",
    "    timeseries=api.get_json()\n",
    "    \n",
    "    with open('timeseries.json', \"wt\") as OUTF:\n",
    "        data = json.dump(timeseries, OUTF)\n",
    "    \n",
    "    return timeseries\n",
    "\n",
    "#defining access to the api for current data "
   ]
  },
  {
   "cell_type": "code",
   "execution_count": null,
   "metadata": {},
   "outputs": [],
   "source": [
    "def api_button_callback(button):\n",
    "    \"\"\" Button callback - it must take the button as its parameter.\n",
    "    Accesses API, wrangles data, updates global variable df used for plotting. \"\"\"\n",
    "    apidata=access_api()\n",
    "    global df1\n",
    "    df1=wrangle_data(apidata)\n",
    "    refresh_graph()\n",
    "    apibutton.icon=\"check\"\n",
    "    apibutton.disabled=True\n",
    "    return df1\n",
    "\n",
    "    \n",
    "apibutton=wdg.Button(\n",
    "    description='Refresh data',\n",
    "    disabled=False,\n",
    "    button_style='info', \n",
    "    tooltip='Click to download current Public Health England data',\n",
    "    icon='refresh'\n",
    ")\n",
    "\n",
    "apibutton.on_click(api_button_callback)\n",
    "\n",
    "display(apibutton)\n",
    "\n",
    "# RUN ALL CELLS BEFORE CLICKING ON THIS BUTTON"
   ]
  },
  {
   "cell_type": "markdown",
   "metadata": {},
   "source": [
    "## Graphs and Analysis"
   ]
  },
  {
   "cell_type": "markdown",
   "metadata": {},
   "source": [
    "Below is a graph representing the cases of Covid-19 in the UK, based on the data published by Public Health England. Displayed are the new cases for each date and the running total of cases since the start of the pandemic in both linear and log format, selected by using the controls provided."
   ]
  },
  {
   "cell_type": "code",
   "execution_count": null,
   "metadata": {},
   "outputs": [],
   "source": [
    "cases=wdg.SelectMultiple(\n",
    "    options=['Newcases', 'Cumcases'],\n",
    "    value=['Newcases', 'Cumcases'],\n",
    "    rows=2,\n",
    "    description='Cases',\n",
    "    disabled=False\n",
    ")\n",
    "\n",
    "scale=wdg.RadioButtons(\n",
    "    options=['linear', 'log'],\n",
    "    description='Scale:',\n",
    "    disabled=False\n",
    ")\n",
    "\n",
    "controls=wdg.HBox([cases, scale])\n",
    "\n",
    "def timeseries_graph(gcols, gscale):\n",
    "    if gscale=='linear':\n",
    "        logscale=False\n",
    "    else:\n",
    "        logscale=True\n",
    "    ncols=len(gcols)\n",
    "    if ncols>0:\n",
    "        df1[list(gcols)].plot(logy=logscale)\n",
    "        plt.xlabel('Date (Month)') \n",
    "        plt.ylabel('Number of Cases') \n",
    "        plt.title('''New Cases per Day and Cumulative Cases Over Time of Covid-19 in the UK\n",
    "        ''') \n",
    "    else:\n",
    "        print(\"Click to select data for graph\")\n",
    "        print(\"(CTRL-Click to select more than one category)\")\n",
    "    \n",
    "graph=wdg.interactive_output(timeseries_graph, {'gcols': cases, 'gscale': scale}) \n",
    "\n",
    "display(controls, graph)\n",
    "\n",
    "#plots graph with interactive widgets\n"
   ]
  },
  {
   "cell_type": "code",
   "execution_count": null,
   "metadata": {},
   "outputs": [],
   "source": [
    "def refresh_graph():\n",
    "\n",
    "    current=scale.value\n",
    "    if current==scale.options[0]:\n",
    "        other=scale.options[1]\n",
    "    else:\n",
    "        other=scale.options[0]\n",
    "    scale.value=other # forces the redraw\n",
    "    scale.value=current # now we can change it back\n",
    "    \n",
    "#defining the refresh graph function - cycles between widget options"
   ]
  },
  {
   "cell_type": "markdown",
   "metadata": {},
   "source": [
    "**Author and Copyright Notice** *Created by Josh Hunter Nov 2020 - Based on UK Government [data](https://coronavirus.data.gov.uk/) published by [Public Health England](https://www.gov.uk/government/organisations/public-health-england).*"
   ]
  }
 ],
 "metadata": {
  "kernelspec": {
   "display_name": "Python 3",
   "language": "python",
   "name": "python3"
  },
  "language_info": {
   "codemirror_mode": {
    "name": "ipython",
    "version": 3
   },
   "file_extension": ".py",
   "mimetype": "text/x-python",
   "name": "python",
   "nbconvert_exporter": "python",
   "pygments_lexer": "ipython3",
   "version": "3.8.3"
  }
 },
 "nbformat": 4,
 "nbformat_minor": 4
}
